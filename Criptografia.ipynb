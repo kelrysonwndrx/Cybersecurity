{
  "nbformat": 4,
  "nbformat_minor": 0,
  "metadata": {
    "colab": {
      "provenance": [],
      "collapsed_sections": [
        "ErXUw-pV1rdT",
        "FgtGrdzbQzw_",
        "FFcBRvstjuhu",
        "dXOzUUtX3nVo",
        "LfpN_RWKRK-T",
        "wrmuE_evKL8F",
        "8TAiCsMPKQim"
      ],
      "authorship_tag": "ABX9TyPNiSAXmiIx9o+0tzMBnMQJ",
      "include_colab_link": true
    },
    "kernelspec": {
      "name": "python3",
      "display_name": "Python 3"
    },
    "language_info": {
      "name": "python"
    }
  },
  "cells": [
    {
      "cell_type": "markdown",
      "metadata": {
        "id": "view-in-github",
        "colab_type": "text"
      },
      "source": [
        "<a href=\"https://colab.research.google.com/github/kelrysonwndrx/Cybersecurity/blob/main/Criptografia.ipynb\" target=\"_parent\"><img src=\"https://colab.research.google.com/assets/colab-badge.svg\" alt=\"Open In Colab\"/></a>"
      ]
    },
    {
      "cell_type": "markdown",
      "source": [
        "# Introdução à Criptografia"
      ],
      "metadata": {
        "id": "YHjButqX-0rl"
      }
    },
    {
      "cell_type": "markdown",
      "source": [
        "# Importações"
      ],
      "metadata": {
        "id": "ErXUw-pV1rdT"
      }
    },
    {
      "cell_type": "code",
      "execution_count": null,
      "metadata": {
        "id": "RbjJ8p2jjyK8"
      },
      "outputs": [],
      "source": [
        "\n",
        "import numpy as np\n",
        "import math as mt\n",
        "from itertools import permutations\n",
        "from random import sample\n"
      ]
    },
    {
      "cell_type": "markdown",
      "source": [
        "# Cifra de César"
      ],
      "metadata": {
        "id": "FgtGrdzbQzw_"
      }
    },
    {
      "cell_type": "code",
      "source": [
        "dictCesar = {\"a\": 0, \"b\": 1, \"c\": 2, \"d\": 3, \"e\": 4, \"f\": 5, \"g\": 6, \"h\": 7, \"i\": 8, \"j\": 9, \"k\": 10, \"l\": 11, \"m\": 12, \"n\": 13, \"o\": 14, \"p\": 15, \"q\": 16, \"r\": 17, \"s\": 18, \"t\": 19, \"u\": 20, \"v\": 21, \"w\": 22, \"x\": 23, \"y\": 24, \"z\": 25}\n",
        "\n",
        "def encodeCesar(string1, hops):\n",
        "\n",
        "  string = (string1.replace(\" \", \"\")).lower()\n",
        "\n",
        "  aux = []\n",
        "  aux2 = \"\"\n",
        "  for i in string:\n",
        "    aux.append((dictCesar[i]+hops)%26)\n",
        "\n",
        "  for j in range(len(aux)):\n",
        "    for k, v in dictCesar.items():\n",
        "      if(aux[j] == v):\n",
        "        aux2 += k\n",
        "\n",
        "  return aux2\n",
        "\n",
        "def decodeCesar(string, hops):\n",
        "\n",
        "  aux = []\n",
        "  aux2 = \"\"\n",
        "  for i in string:\n",
        "    aux.append((dictCesar[i]-hops)%26)\n",
        "\n",
        "  for j in range(len(aux)):\n",
        "    for k, v in dictCesar.items():\n",
        "      if(aux[j] == v):\n",
        "        aux2 += k\n",
        "\n",
        "  return aux2\n"
      ],
      "metadata": {
        "id": "LjnM4NPBQzXA"
      },
      "execution_count": null,
      "outputs": []
    },
    {
      "cell_type": "code",
      "source": [
        "string = encodeCesar(\"testenumeroum\", 3)\n",
        "print(string)\n",
        "\n",
        "print(decodeCesar(string, 3))"
      ],
      "metadata": {
        "colab": {
          "base_uri": "https://localhost:8080/"
        },
        "id": "GaZTs_N1UhEN",
        "outputId": "960919ff-932d-4fa3-f545-4c9433c3d553"
      },
      "execution_count": null,
      "outputs": [
        {
          "output_type": "stream",
          "name": "stdout",
          "text": [
            "whvwhqxphurxp\n",
            "testenumeroum\n"
          ]
        }
      ]
    },
    {
      "cell_type": "markdown",
      "source": [
        "# Cifra Monoalfabética"
      ],
      "metadata": {
        "id": "FFcBRvstjuhu"
      }
    },
    {
      "cell_type": "code",
      "source": [
        "#dictMono = {\"a\": 0, \"b\": 1, \"c\": 2, \"d\": 3, \"e\": 4, \"f\": 5, \"g\": 6, \"h\": 7, \"i\": 8, \"j\": 9, \"k\": 10, \"l\": 11, \"m\": 12, \"n\": 13, \"o\": 14, \"p\": 15, \"q\": 16, \"r\": 17, \"s\": 18, \"t\": 19, \"u\": 20, \"v\": 21, \"w\": 22, \"x\": 23, \"y\": 24, \"z\": 25}\n",
        "\n",
        "\n",
        "letras = ['a', 'b', 'c', 'd', 'e', 'f', 'g', 'h', 'i', 'j', 'k', 'l', 'm', 'n', 'o', 'p', 'q', 'r', 's', 't', 'u', 'v', 'w', 'x', 'y', 'z']\n",
        "numeros = [0, 1, 2, 3, 4, 5, 6, 7, 8, 9, 10, 11, 12, 13, 14, 15, 16, 17, 18, 19, 20, 21, 22, 23, 24, 25]\n",
        "\n",
        "\n",
        "def criaAlfabeto():\n",
        "\n",
        "  permutacao = sample(range(0, 26), 26)\n",
        "  letras = ['a', 'b', 'c', 'd', 'e', 'f', 'g', 'h', 'i', 'j', 'k', 'l', 'm', 'n', 'o', 'p', 'q', 'r', 's', 't', 'u', 'v', 'w', 'x', 'y', 'z']\n",
        "\n",
        "  d = dict(zip(letras, permutacao))\n",
        "\n",
        "  return d\n",
        "\n",
        "def encodeMono(string1, dictMono, hops):\n",
        "\n",
        "  string = (string1.replace(\" \", \"\")).lower()\n",
        "\n",
        "  aux = []\n",
        "  aux2 = \"\"\n",
        "  for i in string:\n",
        "    aux.append((dictMono[i]+hops)%26)\n",
        "\n",
        "  for j in range(len(aux)):\n",
        "    for k, v in dictMono.items():\n",
        "      if(aux[j] == v):\n",
        "        aux2 += k\n",
        "\n",
        "  return aux2\n",
        "\n",
        "def decodeMono(string, dictMono, hops):\n",
        "\n",
        "  aux = []\n",
        "  aux2 = \"\"\n",
        "  for i in string:\n",
        "    aux.append((dictMono[i]-hops)%26)\n",
        "\n",
        "  for j in range(len(aux)):\n",
        "    for k, v in dictMono.items():\n",
        "      if(aux[j] == v):\n",
        "        aux2 += k\n",
        "\n",
        "  return aux2\n"
      ],
      "metadata": {
        "id": "Rmi0UF9qj0DD"
      },
      "execution_count": null,
      "outputs": []
    },
    {
      "cell_type": "code",
      "source": [
        "\n",
        "dictMono = criaAlfabeto()\n",
        "string = encodeMono(\"striNgde teste\", dictMono, 3)\n",
        "print(string)\n",
        "print(decodeMono(string, dictMono, 3))\n",
        "\n"
      ],
      "metadata": {
        "colab": {
          "base_uri": "https://localhost:8080/"
        },
        "id": "fVIAwqJZoDji",
        "outputId": "bfe1d38e-f643-4d6a-d95d-c3db3c30ebbe"
      },
      "execution_count": null,
      "outputs": [
        {
          "output_type": "stream",
          "name": "stdout",
          "text": [
            "xzmytpidzdxzd\n",
            "stringdeteste\n"
          ]
        }
      ]
    },
    {
      "cell_type": "markdown",
      "source": [
        "# Cifra Playfair"
      ],
      "metadata": {
        "id": "dXOzUUtX3nVo"
      }
    },
    {
      "cell_type": "code",
      "source": [
        "dictPlayfair = {\"a\": 0, \"b\": 1, \"c\": 2, \"d\": 3, \"e\": 4, \"f\": 5, \"g\": 6, \"h\": 7, \"i\": 8, \"j\": 9, \"k\": 10, \"l\": 11, \"m\": 12, \"n\": 13, \"o\": 14, \"p\": 15, \"q\": 16, \"r\": 17, \"s\": 18, \"t\": 19, \"u\": 20, \"v\": 21, \"w\": 22, \"x\": 23, \"y\": 24, \"z\": 25}\n",
        "\n",
        "#para implementar\n",
        "\n",
        "def encodePlayfair(message1, keyword):\n",
        "\n",
        "  message = (message1.replace(\" \", \"\")).lower()\n",
        "\n",
        "  alphabet = list([\"a\", \"b\", \"c\", \"d\", \"e\", \"f\", \"g\", \"h\", \"ij\", \"k\", \"l\", \"m\", \"n\", \"o\", \"p\", \"q\", \"r\", \"s\", \"t\", \"u\", \"v\", \"w\", \"x\", \"y\", \"z\"])\n",
        "  cripto = \"\"\n",
        "  aux = list(keyword)\n",
        "  aux2 = []\n",
        "  table = np.empty((5, 5), dtype=str)\n",
        "\n",
        "  for i in range(table.shape[0]):\n",
        "    for j in range(table.shape[1]):\n",
        "        if(len(aux) != 0):\n",
        "          character = aux.pop(0)\n",
        "          if(character == \"i\" or character == \"j\"):\n",
        "            alphabet.remove(\"ij\")\n",
        "            table[i][j] = \"ij\"\n",
        "          else:\n",
        "            alphabet.remove(character)\n",
        "            table[i][j] = character\n",
        "        else:\n",
        "          table[i][j] = alphabet.pop(0)\n",
        "\n",
        "\n",
        "  n = 0\n",
        "  while(n < len(message)):\n",
        "    if(n+1 != len(message)):\n",
        "      if(message[n] == message[n+1]):\n",
        "        aux2.append(message[n]+'x')\n",
        "        n = n+1\n",
        "      else:\n",
        "        aux2.append(message[n:n+2])\n",
        "        n = n+2\n",
        "    else:\n",
        "      aux2.append(message[n]+'z')\n",
        "      n = n+1\n",
        "\n",
        "  for k in range(len(aux2)):\n",
        "    a = np.where(table == aux2[k][0])\n",
        "    b = np.where(table == aux2[k][1])\n",
        "    if(a[0] == b[0]):\n",
        "      linhaA = int(a[0])\n",
        "      colunaA = int((a[1]+1)%5)\n",
        "      linhaB = int(b[0])\n",
        "      colunaB = int((b[1]+1)%5)\n",
        "\n",
        "      cripto += str(table[linhaA][colunaA])+str(table[linhaB][colunaB])\n",
        "    else:\n",
        "      if(a[1] == b[1]):\n",
        "        linhaA = int((a[0]+1)%5)\n",
        "        colunaA = int(a[1])\n",
        "        linhaB = int((b[0]+1)%5)\n",
        "        colunaB = int(b[1])\n",
        "        cripto += str(table[linhaA][colunaA])+str(table[linhaB][colunaB])\n",
        "\n",
        "      else:\n",
        "          linhaA = int(a[0])\n",
        "          colunaA = int(b[1])\n",
        "          linhaB = int(b[0])\n",
        "          colunaB = int(a[1])\n",
        "          cripto += str(table[linhaA][colunaA])+str(table[linhaB][colunaB])\n",
        "\n",
        "  return cripto\n",
        "\n",
        "def decodePlayfair(message, keyword):\n",
        "  alphabet = list([\"a\", \"b\", \"c\", \"d\", \"e\", \"f\", \"g\", \"h\", \"ij\", \"k\", \"l\", \"m\", \"n\", \"o\", \"p\", \"q\", \"r\", \"s\", \"t\", \"u\", \"v\", \"w\", \"x\", \"y\", \"z\"])\n",
        "  cripto = \"\"\n",
        "  aux = list(keyword)\n",
        "  aux2 = []\n",
        "  table = np.empty((5, 5), dtype=str)\n",
        "\n",
        "  for i in range(table.shape[0]):\n",
        "    for j in range(table.shape[1]):\n",
        "        if(len(aux) != 0):\n",
        "          character = aux.pop(0)\n",
        "          if(character == \"i\" or character == \"j\"):\n",
        "            alphabet.remove(\"ij\")\n",
        "            table[i][j] = \"ij\"\n",
        "          else:\n",
        "            alphabet.remove(character)\n",
        "            table[i][j] = character\n",
        "        else:\n",
        "          table[i][j] = alphabet.pop(0)\n",
        "\n",
        "  n = 0\n",
        "  while(n < len(message)):\n",
        "    if(n+1 != len(message)):\n",
        "      if(message[n] == message[n+1]):\n",
        "        aux2.append(message[n]+'x')\n",
        "        n = n+1\n",
        "      else:\n",
        "        aux2.append(message[n:n+2])\n",
        "        n = n+2\n",
        "    else:\n",
        "      aux2.append(message[n]+'z')\n",
        "      n = n+1\n",
        "\n",
        "  for k in range(len(aux2)):\n",
        "    a = np.where(table == aux2[k][0])\n",
        "    b = np.where(table == aux2[k][1])\n",
        "    if(a[0] == b[0]):\n",
        "      linhaA = int(a[0])\n",
        "      colunaA = int((a[1]-1)%5)\n",
        "      linhaB = int(b[0])\n",
        "      colunaB = int((b[1]-1)%5)\n",
        "      cripto += str(table[linhaA][colunaA])+str(table[linhaB][colunaB])\n",
        "\n",
        "    else:\n",
        "      if(a[1] == b[1]):\n",
        "        linhaA = int((a[0]-1)%5)\n",
        "        colunaA = int(a[1])\n",
        "        linhaB = int((b[0]-1)%5)\n",
        "        colunaB = int(b[1])\n",
        "        cripto += str(table[linhaA][colunaA])+str(table[linhaB][colunaB])\n",
        "\n",
        "      else:\n",
        "          linhaA = int(a[0])\n",
        "          colunaA = int(b[1])\n",
        "          linhaB = int(b[0])\n",
        "          colunaB = int(a[1])\n",
        "          cripto += str(table[linhaA][colunaA])+str(table[linhaB][colunaB])\n",
        "\n",
        "  return cripto\n"
      ],
      "metadata": {
        "id": "ep4dnP1z3tvz"
      },
      "execution_count": null,
      "outputs": []
    },
    {
      "cell_type": "code",
      "source": [
        "encripted = encodePlayfair(\"Estas enko esta e uma mensagem\", \"monarchy\")\n",
        "decripted = decodePlayfair(encripted, \"monarchy\")\n",
        "print(encripted+\" - \"+decripted)"
      ],
      "metadata": {
        "colab": {
          "base_uri": "https://localhost:8080/"
        },
        "id": "gCG0inbK7_oh",
        "outputId": "1971581a-450d-4c30-baa7-a5a4598e34eb"
      },
      "execution_count": null,
      "outputs": [
        {
          "output_type": "stream",
          "name": "stdout",
          "text": [
            "ilsrlirgmftlmimcrogmxbifru - estasenkoestaeumamensagemz\n"
          ]
        }
      ]
    },
    {
      "cell_type": "markdown",
      "source": [
        "# Cifra de Hill"
      ],
      "metadata": {
        "id": "LfpN_RWKRK-T"
      }
    },
    {
      "cell_type": "code",
      "source": [
        "\n",
        "dict = {\"a\": 1, \"b\": 2, \"c\": 3, \"d\": 4, \"e\": 5, \"f\": 6, \"g\": 7, \"h\": 8, \"i\": 9, \"j\": 10, \"k\": 11, \"l\": 12, \"m\": 13, \"n\": 14, \"o\": 15, \"p\": 16, \"q\": 17, \"r\": 18, \"s\": 19, \"t\": 20, \"u\": 21, \"v\": 22, \"w\": 23, \"x\": 24, \"y\": 25, \"z\": 0}\n",
        "\n",
        "enc = [(1, 2), (3, 9)]\n",
        "\n",
        "q = np.linalg.inv(enc)\n",
        "\n",
        "def calculandoInversa(enc):\n",
        "\n",
        "  dec = np.linalg.inv(enc)\n",
        "\n",
        "  for i in range(dec.shape[0]):\n",
        "    for j in range(dec.shape[1]):\n",
        "      if(dec[i][j] < 0 or dec[i][j]>25):\n",
        "        dec[i][j] = (dec[i][j])%26\n",
        "\n",
        "  return dec\n",
        "\n",
        "#dec = calculandoInversa(enc)\n",
        "\n",
        "dec = np.array([(3, 8), (25, 9)])\n",
        "\n",
        "def gerarEncoder():\n",
        "  matrix = np.random.randint(0, 26, size=(2, 2))\n",
        "\n",
        "  return matrix\n",
        "\n",
        "\n",
        "def processStr(message):\n",
        "\n",
        "  aux = (message.replace(\" \", \"\")).lower()\n",
        "\n",
        "  if(len(message)%2 != 0):\n",
        "    aux = aux+'z'\n",
        "\n",
        "  aux1 = []\n",
        "  for v in aux:\n",
        "    value = dict[v]\n",
        "    aux1.append(value)\n",
        "\n",
        "  array = np.array(aux1)\n",
        "  aux2 = []\n",
        "\n",
        "  for n in range(0, len(array)-2, 2):\n",
        "    aux2.append(array[n:n+2])\n",
        "\n",
        "  return aux2\n",
        "\n",
        "\n",
        "def produto(aux2, encoder):\n",
        "\n",
        "  aux3 = []\n",
        "\n",
        "  for i in range(len(aux2)):\n",
        "    a = np.dot(encoder, aux2[i])\n",
        "    aux3.append(a)\n",
        "\n",
        "  aux4 = np.array(aux3, np.int32)\n",
        "  lista = aux4.flatten()\n",
        "\n",
        "  for j in range(len(lista)):\n",
        "    if(lista[j] > 25 or lista[j] < 0):\n",
        "      lista[j] = (lista[j])%26\n",
        "\n",
        "  return lista\n",
        "\n",
        "def maping(lista):\n",
        "\n",
        "  aux5 = \"\"\n",
        "\n",
        "  for i in lista:\n",
        "    for k, v in dict.items():\n",
        "      if(i == v):\n",
        "        aux5 += k\n",
        "\n",
        "  return aux5\n",
        "\n",
        "\n",
        "def encoding(string):\n",
        "\n",
        "  pure_Message = processStr(string)\n",
        "  code = produto(pure_Message, enc)\n",
        "  saida = maping(code)\n",
        "\n",
        "  return saida\n",
        "\n",
        "#------------------------------------------------------\n",
        "\n",
        "def decoding(string):\n",
        "  pure_Message = processStr(string)\n",
        "\n",
        "  code = produto(pure_Message, dec)\n",
        "\n",
        "  saida = maping(code)\n",
        "\n",
        "  return saida\n"
      ],
      "metadata": {
        "id": "P3XPDxSTj5Zv"
      },
      "execution_count": null,
      "outputs": []
    },
    {
      "cell_type": "code",
      "source": [
        "f = encoding(\"teste um teste dois teste\")\n",
        "\n",
        "print(f)\n",
        "\n",
        "g = decoding(f)\n",
        "\n",
        "print(g)\n"
      ],
      "metadata": {
        "colab": {
          "base_uri": "https://localhost:8080/"
        },
        "id": "CoqB_0H24O1S",
        "outputId": "d65803fe-e6d3-4205-8c2a-607ba1cedf74"
      },
      "execution_count": null,
      "outputs": [
        {
          "output_type": "stream",
          "name": "stdout",
          "text": [
            "dagcuvakqddahqupdagc\n",
            "testeumtestedoiste\n"
          ]
        }
      ]
    },
    {
      "cell_type": "markdown",
      "source": [
        "# Cifra de Vigenere"
      ],
      "metadata": {
        "id": "wrmuE_evKL8F"
      }
    },
    {
      "cell_type": "code",
      "source": [
        "dictVigenere = {\"a\": 0, \"b\": 1, \"c\": 2, \"d\": 3, \"e\": 4, \"f\": 5, \"g\": 6, \"h\": 7, \"i\": 8, \"j\": 9, \"k\": 10, \"l\": 11, \"m\": 12, \"n\": 13, \"o\": 14, \"p\": 15, \"q\": 16, \"r\": 17, \"s\": 18, \"t\": 19, \"u\": 20, \"v\": 21, \"w\": 22, \"x\": 23, \"y\": 24, \"z\": 25}\n",
        "\n",
        "#Várias cifras de césar\n",
        "\n",
        "def encodeVigenere(string1, key):\n",
        "\n",
        "  string = (string1.replace(\" \", \"\")).lower()\n",
        "\n",
        "  base = key\n",
        "  aux = []\n",
        "  aux2 = \"\"\n",
        "  for i in string:\n",
        "    aux.append((dictVigenere[i]+dictVigenere[base[0]])%26)\n",
        "    base = base[1:]\n",
        "\n",
        "  for j in range(len(aux)):\n",
        "    for k, v in dictVigenere.items():\n",
        "      if(aux[j] == v):\n",
        "        aux2 += k\n",
        "\n",
        "  return aux2\n",
        "\n",
        "def decodeVigenere(string, key):\n",
        "\n",
        "  base = key\n",
        "  aux = []\n",
        "  aux2 = \"\"\n",
        "  for i in string:\n",
        "    aux.append((dictVigenere[i]-dictVigenere[base[0]])%26)\n",
        "    base = base[1:]\n",
        "\n",
        "  for j in range(len(aux)):\n",
        "    for k, v in dictVigenere.items():\n",
        "      if(aux[j] == v):\n",
        "        aux2 += k\n",
        "\n",
        "  return aux2\n",
        "\n",
        "\n"
      ],
      "metadata": {
        "id": "bMo4LTDdRCiV"
      },
      "execution_count": null,
      "outputs": []
    },
    {
      "cell_type": "code",
      "source": [
        "\n",
        "g = encodeVigenere(\"atacarbasesul\", \"limaolimaolim\")\n",
        "\n",
        "print(g)\n",
        "\n",
        "print(decodeVigenere(g, \"limaolimaolim\"))\n",
        "\n"
      ],
      "metadata": {
        "colab": {
          "base_uri": "https://localhost:8080/"
        },
        "id": "_bUk2ASTS344",
        "outputId": "1a21a473-8b1d-4596-8777-b0d9d51edf8b"
      },
      "execution_count": null,
      "outputs": [
        {
          "output_type": "stream",
          "name": "stdout",
          "text": [
            "lbmcocjmssdcx\n",
            "atacarbasesul\n"
          ]
        }
      ]
    },
    {
      "cell_type": "markdown",
      "source": [
        "# Cifra de Vernam"
      ],
      "metadata": {
        "id": "8TAiCsMPKQim"
      }
    },
    {
      "cell_type": "code",
      "source": [
        "from ctypes import string_at\n",
        "dictVernam = {\"a\": 0, \"b\": 1, \"c\": 2, \"d\": 3, \"e\": 4, \"f\": 5, \"g\": 6, \"h\": 7, \"i\": 8, \"j\": 9, \"k\": 10, \"l\": 11, \"m\": 12, \"n\": 13, \"o\": 14, \"p\": 15, \"q\": 16, \"r\": 17, \"s\": 18, \"t\": 19, \"u\": 20, \"v\": 21, \"w\": 22, \"x\": 23, \"y\": 24, \"z\": 25}\n",
        "\n",
        "\n",
        "def encodeVernam(string1, key):\n",
        "\n",
        "  string = (string1.replace(\" \", \"\")).lower()\n",
        "\n",
        "  aux1 = []\n",
        "  aux2 = \"\"\n",
        "\n",
        "  for i in range(len(key)):\n",
        "    aux1.append((dictVernam[string[i]]+dictVernam[key[i]])%26)\n",
        "\n",
        "  for j in range(len(aux1)):\n",
        "    for k, v in dictVernam.items():\n",
        "      if(aux1[j] == v):\n",
        "        aux2 += k\n",
        "\n",
        "  return aux2\n",
        "\n",
        "\n",
        "def decodeVernam(string, key):\n",
        "\n",
        "  aux1 = []\n",
        "  aux2 = \"\"\n",
        "\n",
        "  for i in range(len(key)):\n",
        "    aux1.append((dictVernam[string[i]]-dictVernam[key[i]])%26)\n",
        "\n",
        "  for j in range(len(aux1)):\n",
        "    for k, v in dictVernam.items():\n",
        "      if(aux1[j] == v):\n",
        "        aux2 += k\n",
        "\n",
        "  return aux2\n"
      ],
      "metadata": {
        "id": "_eyOk8JLKTSG"
      },
      "execution_count": null,
      "outputs": []
    },
    {
      "cell_type": "code",
      "source": [
        "\n",
        "x = encodeVernam(\"abc\", \"def\")\n",
        "print(x)\n",
        "\n",
        "print(decodeVernam(x, \"def\"))\n",
        "\n"
      ],
      "metadata": {
        "colab": {
          "base_uri": "https://localhost:8080/"
        },
        "id": "3-_H7YErLXrm",
        "outputId": "b4c68a62-c838-4476-c683-10216616cf5e"
      },
      "execution_count": null,
      "outputs": [
        {
          "output_type": "stream",
          "name": "stdout",
          "text": [
            "dfh\n",
            "abc\n"
          ]
        }
      ]
    }
  ]
}